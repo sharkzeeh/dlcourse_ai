{
 "cells": [
  {
   "cell_type": "markdown",
   "metadata": {},
   "source": [
    "# Задание 2.1 - Нейронные сети\n",
    "\n",
    "В этом задании вы реализуете и натренируете настоящую нейроную сеть своими руками!\n",
    "\n",
    "В некотором смысле это будет расширением прошлого задания - нам нужно просто составить несколько линейных классификаторов вместе!\n",
    "\n",
    "<img src=\"https://i.redd.it/n9fgba8b0qr01.png\" alt=\"Stack_more_layers\" width=\"400px\"/>"
   ]
  },
  {
   "cell_type": "code",
   "execution_count": 1,
   "metadata": {},
   "outputs": [],
   "source": [
    "import numpy as np\n",
    "import matplotlib.pyplot as plt\n",
    "\n",
    "%matplotlib inline\n",
    "\n",
    "%load_ext autoreload\n",
    "%autoreload 2"
   ]
  },
  {
   "cell_type": "code",
   "execution_count": 2,
   "metadata": {},
   "outputs": [],
   "source": [
    "from dataset import load_svhn, random_split_train_val\n",
    "from gradient_check import check_layer_gradient, check_layer_param_gradient, check_model_gradient\n",
    "from layers import FullyConnectedLayer, ReLULayer\n",
    "from model import TwoLayerNet\n",
    "from trainer import Trainer, Dataset\n",
    "from optim import SGD, MomentumSGD\n",
    "from metrics import multiclass_accuracy"
   ]
  },
  {
   "cell_type": "markdown",
   "metadata": {},
   "source": [
    "# Загружаем данные\n",
    "\n",
    "И разделяем их на training и validation."
   ]
  },
  {
   "cell_type": "code",
   "execution_count": 3,
   "metadata": {},
   "outputs": [],
   "source": [
    "def prepare_for_neural_network(train_X, test_X):\n",
    "    train_flat = train_X.reshape(train_X.shape[0], -1).astype(np.float) / 255.0\n",
    "    test_flat = test_X.reshape(test_X.shape[0], -1).astype(np.float) / 255.0\n",
    "    \n",
    "    # Subtract mean\n",
    "    mean_image = np.mean(train_flat, axis = 0)\n",
    "    train_flat -= mean_image\n",
    "    test_flat -= mean_image\n",
    "    \n",
    "    return train_flat, test_flat\n",
    "    \n",
    "train_X, train_y, test_X, test_y = load_svhn(\"../data\", max_train=10000, max_test=1000)    \n",
    "train_X, test_X = prepare_for_neural_network(train_X, test_X)\n",
    "# Split train into train and val\n",
    "train_X, train_y, val_X, val_y = random_split_train_val(train_X, train_y, num_val = 1000)"
   ]
  },
  {
   "cell_type": "markdown",
   "metadata": {},
   "source": [
    "# Как всегда, начинаем с кирпичиков\n",
    "\n",
    "Мы будем реализовывать необходимые нам слои по очереди. Каждый слой должен реализовать:\n",
    "- прямой проход (forward pass), который генерирует выход слоя по входу и запоминает необходимые данные\n",
    "- обратный проход (backward pass), который получает градиент по выходу слоя и вычисляет градиент по входу и по параметрам\n",
    "\n",
    "Начнем с ReLU, у которого параметров нет."
   ]
  },
  {
   "cell_type": "code",
   "execution_count": 4,
   "metadata": {
    "scrolled": false
   },
   "outputs": [
    {
     "name": "stdout",
     "output_type": "stream",
     "text": [
      "Gradient check passed!\n"
     ]
    }
   ],
   "source": [
    "# TODO: Implement ReLULayer layer in layers.py\n",
    "# Note: you'll need to copy implementation of the gradient_check function from the previous assignment\n",
    "\n",
    "X = np.array([[1,-2,3],\n",
    "              [-1, 2, 0.1]\n",
    "              ])\n",
    "\n",
    "assert check_layer_gradient(ReLULayer(), X)"
   ]
  },
  {
   "cell_type": "markdown",
   "metadata": {},
   "source": [
    "А теперь реализуем полносвязный слой (fully connected layer), у которого будет два массива параметров: W (weights) и B (bias).\n",
    "\n",
    "Все параметры наши слои будут использовать для параметров специальный класс `Param`, в котором будут храниться значения параметров и градиенты этих параметров, вычисляемые во время обратного прохода.\n",
    "\n",
    "Это даст возможность аккумулировать (суммировать) градиенты из разных частей функции потерь, например, из cross-entropy loss и regularization loss."
   ]
  },
  {
   "cell_type": "code",
   "execution_count": 5,
   "metadata": {},
   "outputs": [
    {
     "name": "stdout",
     "output_type": "stream",
     "text": [
      "Gradient check passed!\n",
      "Gradient check passed!\n",
      "Gradient check passed!\n"
     ]
    }
   ],
   "source": [
    "# TODO: Implement FullyConnected layer forward and backward methods\n",
    "assert check_layer_gradient(FullyConnectedLayer(3, 4), X)\n",
    "# TODO: Implement storing gradients for W and B\n",
    "assert check_layer_param_gradient(FullyConnectedLayer(3, 4), X, 'W')\n",
    "assert check_layer_param_gradient(FullyConnectedLayer(3, 4), X, 'B')"
   ]
  },
  {
   "cell_type": "markdown",
   "metadata": {},
   "source": [
    "## Создаем нейронную сеть\n",
    "\n",
    "Теперь мы реализуем простейшую нейронную сеть с двумя полносвязным слоями и нелинейностью ReLU. Реализуйте функцию `compute_loss_and_gradients`, она должна запустить прямой и обратный проход через оба слоя для вычисления градиентов.\n",
    "\n",
    "Не забудьте реализовать очистку градиентов в начале функции."
   ]
  },
  {
   "cell_type": "code",
   "execution_count": 6,
   "metadata": {},
   "outputs": [
    {
     "name": "stdout",
     "output_type": "stream",
     "text": [
      "Checking gradient for W_0\n",
      "Gradient check passed!\n",
      "Checking gradient for B_0\n",
      "Gradient check passed!\n",
      "Checking gradient for W_2\n",
      "Gradient check passed!\n",
      "Checking gradient for B_2\n",
      "Gradient check passed!\n"
     ]
    },
    {
     "data": {
      "text/plain": [
       "True"
      ]
     },
     "execution_count": 6,
     "metadata": {},
     "output_type": "execute_result"
    }
   ],
   "source": [
    "# TODO: In model.py, implement compute_loss_and_gradients function\n",
    "model = TwoLayerNet(n_input = train_X.shape[1], n_output = 10, hidden_layer_size = 3, reg = 0)\n",
    "loss = model.compute_loss_and_gradients(train_X[:2], train_y[:2])\n",
    "\n",
    "# TODO Now implement backward pass and aggregate all of the params\n",
    "check_model_gradient(model, train_X[:2], train_y[:2])"
   ]
  },
  {
   "cell_type": "markdown",
   "metadata": {},
   "source": [
    "Теперь добавьте к модели регуляризацию - она должна прибавляться к loss и делать свой вклад в градиенты."
   ]
  },
  {
   "cell_type": "code",
   "execution_count": 7,
   "metadata": {},
   "outputs": [
    {
     "name": "stdout",
     "output_type": "stream",
     "text": [
      "Checking gradient for W_0\n",
      "Gradient check passed!\n",
      "Checking gradient for B_0\n",
      "Gradient check passed!\n",
      "Checking gradient for W_2\n",
      "Gradient check passed!\n",
      "Checking gradient for B_2\n",
      "Gradient check passed!\n"
     ]
    },
    {
     "data": {
      "text/plain": [
       "True"
      ]
     },
     "execution_count": 7,
     "metadata": {},
     "output_type": "execute_result"
    }
   ],
   "source": [
    "# TODO Now implement l2 regularization in the forward and backward pass\n",
    "model_with_reg = TwoLayerNet(n_input = train_X.shape[1], n_output = 10, hidden_layer_size = 3, reg = 1e1)\n",
    "loss_with_reg = model_with_reg.compute_loss_and_gradients(train_X[:2], train_y[:2])\n",
    "assert loss_with_reg > loss and not np.isclose(loss_with_reg, loss), \\\n",
    "    \"Loss with regularization (%2.4f) should be higher than without it (%2.4f)!\" % (loss, loss_with_reg)\n",
    "\n",
    "check_model_gradient(model_with_reg, train_X[:2], train_y[:2])"
   ]
  },
  {
   "cell_type": "markdown",
   "metadata": {},
   "source": [
    "Также реализуем функцию предсказания (вычисления значения) модели на новых данных.\n",
    "\n",
    "Какое значение точности мы ожидаем увидеть до начала тренировки?"
   ]
  },
  {
   "cell_type": "code",
   "execution_count": 10,
   "metadata": {},
   "outputs": [
    {
     "data": {
      "text/plain": [
       "0.1"
      ]
     },
     "execution_count": 10,
     "metadata": {},
     "output_type": "execute_result"
    }
   ],
   "source": [
    "# Finally, implement predict function!\n",
    "\n",
    "# TODO: Implement predict function\n",
    "# What would be the value we expect?\n",
    "multiclass_accuracy(model_with_reg.predict(train_X[:30]), train_y[:30]) "
   ]
  },
  {
   "cell_type": "markdown",
   "metadata": {},
   "source": [
    "# Допишем код для процесса тренировки\n",
    "\n",
    "Если все реализовано корректно, значение функции ошибки должно уменьшаться с каждой эпохой, пусть и медленно. Не беспокойтесь пока про validation accuracy."
   ]
  },
  {
   "cell_type": "code",
   "execution_count": 14,
   "metadata": {},
   "outputs": [
    {
     "name": "stdout",
     "output_type": "stream",
     "text": [
      "Loss: 2.303139, Train accuracy: 0.196667, val accuracy: 0.206000\n",
      "Loss: 2.302289, Train accuracy: 0.196667, val accuracy: 0.206000\n",
      "Loss: 2.302183, Train accuracy: 0.148222, val accuracy: 0.140000\n",
      "Loss: 2.302143, Train accuracy: 0.196667, val accuracy: 0.206000\n",
      "Loss: 2.302380, Train accuracy: 0.196667, val accuracy: 0.206000\n",
      "Loss: 2.303269, Train accuracy: 0.196667, val accuracy: 0.206000\n",
      "Loss: 2.301594, Train accuracy: 0.196667, val accuracy: 0.206000\n",
      "Loss: 2.302052, Train accuracy: 0.148222, val accuracy: 0.140000\n",
      "Loss: 2.302268, Train accuracy: 0.196667, val accuracy: 0.206000\n",
      "Loss: 2.302424, Train accuracy: 0.148222, val accuracy: 0.140000\n",
      "Loss: 2.302773, Train accuracy: 0.196667, val accuracy: 0.206000\n",
      "Loss: 2.302187, Train accuracy: 0.196667, val accuracy: 0.206000\n",
      "Loss: 2.302455, Train accuracy: 0.196667, val accuracy: 0.206000\n",
      "Loss: 2.302688, Train accuracy: 0.196667, val accuracy: 0.206000\n",
      "Loss: 2.301814, Train accuracy: 0.196667, val accuracy: 0.206000\n",
      "Loss: 2.301626, Train accuracy: 0.196667, val accuracy: 0.206000\n",
      "Loss: 2.301912, Train accuracy: 0.196667, val accuracy: 0.206000\n",
      "Loss: 2.303379, Train accuracy: 0.196667, val accuracy: 0.206000\n",
      "Loss: 2.301386, Train accuracy: 0.196667, val accuracy: 0.206000\n",
      "Loss: 2.302035, Train accuracy: 0.196667, val accuracy: 0.206000\n"
     ]
    }
   ],
   "source": [
    "model = TwoLayerNet(n_input = train_X.shape[1], n_output = 10, hidden_layer_size = 100, reg = 1e1)\n",
    "dataset = Dataset(train_X, train_y, val_X, val_y)\n",
    "trainer = Trainer(model, dataset, SGD(), learning_rate = 1e-2)\n",
    "\n",
    "# TODO Implement missing pieces in Trainer.fit function\n",
    "# You should expect loss to go down every epoch, even if it's slow\n",
    "loss_history, train_history, val_history = trainer.fit()"
   ]
  },
  {
   "cell_type": "code",
   "execution_count": 15,
   "metadata": {},
   "outputs": [
    {
     "data": {
      "text/plain": [
       "[<matplotlib.lines.Line2D at 0x7f7828131978>]"
      ]
     },
     "execution_count": 15,
     "metadata": {},
     "output_type": "execute_result"
    },
    {
     "data": {
      "image/png": "[encoded data removed]",
      "text/plain": [
       "<Figure size 432x288 with 1 Axes>"
      ]
     },
     "metadata": {
      "needs_background": "light"
     },
     "output_type": "display_data"
    }
   ],
   "source": [
    "plt.plot(train_history)\n",
    "plt.plot(val_history)"
   ]
  },
  {
   "cell_type": "code",
   "execution_count": 20,
   "metadata": {},
   "outputs": [
    {
     "data": {
      "text/plain": [
       "[<matplotlib.lines.Line2D at 0x7f7827bea1d0>]"
      ]
     },
     "execution_count": 20,
     "metadata": {},
     "output_type": "execute_result"
    },
    {
     "data": {
      "image/png": "[encoded data removed]",
      "text/plain": [
       "<Figure size 432x288 with 1 Axes>"
      ]
     },
     "metadata": {
      "needs_background": "light"
     },
     "output_type": "display_data"
    }
   ],
   "source": [
    "plt.plot(loss_history)"
   ]
  },
  {
   "cell_type": "markdown",
   "metadata": {},
   "source": [
    "# Улучшаем процесс тренировки\n",
    "\n",
    "Мы реализуем несколько ключевых оптимизаций, необходимых для тренировки современных нейросетей."
   ]
  },
  {
   "cell_type": "markdown",
   "metadata": {},
   "source": [
    "## Уменьшение скорости обучения (learning rate decay)\n",
    "\n",
    "Одна из необходимых оптимизаций во время тренировки нейронных сетей - постепенное уменьшение скорости обучения по мере тренировки.\n",
    "\n",
    "Один из стандартных методов - уменьшение скорости обучения (learning rate) каждые N эпох на коэффициент d (часто называемый decay). Значения N и d, как всегда, являются гиперпараметрами и должны подбираться на основе эффективности на проверочных данных (validation data). \n",
    "\n",
    "В нашем случае N будет равным 1."
   ]
  },
  {
   "cell_type": "code",
   "execution_count": 16,
   "metadata": {},
   "outputs": [
    {
     "name": "stdout",
     "output_type": "stream",
     "text": [
      "Loss: 2.288748, Train accuracy: 0.196667, val accuracy: 0.206000\n",
      "Loss: 2.263749, Train accuracy: 0.196667, val accuracy: 0.206000\n",
      "Loss: 2.230533, Train accuracy: 0.196667, val accuracy: 0.206000\n",
      "Loss: 2.261062, Train accuracy: 0.196667, val accuracy: 0.206000\n",
      "Loss: 2.276708, Train accuracy: 0.196667, val accuracy: 0.206000\n",
      "Loss: 2.280981, Train accuracy: 0.196667, val accuracy: 0.206000\n",
      "Loss: 2.258809, Train accuracy: 0.196667, val accuracy: 0.206000\n",
      "Loss: 2.423836, Train accuracy: 0.196667, val accuracy: 0.206000\n",
      "Loss: 2.184394, Train accuracy: 0.196667, val accuracy: 0.206000\n",
      "Loss: 2.259841, Train accuracy: 0.196667, val accuracy: 0.206000\n",
      "Loss: 2.311260, Train accuracy: 0.196667, val accuracy: 0.206000\n",
      "Loss: 2.262605, Train accuracy: 0.196667, val accuracy: 0.206000\n",
      "Loss: 2.248855, Train accuracy: 0.196667, val accuracy: 0.206000\n",
      "Loss: 2.263703, Train accuracy: 0.196667, val accuracy: 0.206000\n",
      "Loss: 2.386262, Train accuracy: 0.196667, val accuracy: 0.206000\n",
      "Loss: 2.273989, Train accuracy: 0.196667, val accuracy: 0.206000\n",
      "Loss: 2.243220, Train accuracy: 0.196667, val accuracy: 0.206000\n",
      "Loss: 2.256421, Train accuracy: 0.196667, val accuracy: 0.206000\n",
      "Loss: 2.208017, Train accuracy: 0.196667, val accuracy: 0.206000\n",
      "Loss: 2.230637, Train accuracy: 0.196667, val accuracy: 0.206000\n"
     ]
    }
   ],
   "source": [
    "# TODO Implement learning rate decay inside Trainer.fit method\n",
    "# Decay should happen once per epoch\n",
    "\n",
    "model = TwoLayerNet(n_input = train_X.shape[1], n_output = 10, hidden_layer_size = 100, reg = 1e-1)\n",
    "dataset = Dataset(train_X, train_y, val_X, val_y)\n",
    "trainer = Trainer(model, dataset, SGD(), learning_rate_decay=0.99)\n",
    "\n",
    "initial_learning_rate = trainer.learning_rate\n",
    "loss_history, train_history, val_history = trainer.fit()\n",
    "\n",
    "assert trainer.learning_rate < initial_learning_rate, \"Learning rate should've been reduced\"\n",
    "assert trainer.learning_rate > 0.5*initial_learning_rate, \"Learning rate shouldn'tve been reduced that much!\""
   ]
  },
  {
   "cell_type": "markdown",
   "metadata": {},
   "source": [
    "# Накопление импульса (Momentum SGD)\n",
    "\n",
    "Другой большой класс оптимизаций - использование более эффективных методов градиентного спуска. Мы реализуем один из них - накопление импульса (Momentum SGD).\n",
    "\n",
    "Этот метод хранит скорость движения, использует градиент для ее изменения на каждом шаге, и изменяет веса пропорционально значению скорости.\n",
    "(Физическая аналогия: Вместо скорости градиенты теперь будут задавать ускорение, но будет присутствовать сила трения.)\n",
    "\n",
    "```\n",
    "velocity = momentum * velocity - learning_rate * gradient \n",
    "w = w + velocity\n",
    "```\n",
    "\n",
    "`momentum` здесь коэффициент затухания, который тоже является гиперпараметром (к счастью, для него часто есть хорошее значение по умолчанию, типичный диапазон -- 0.8-0.99).\n",
    "\n",
    "Несколько полезных ссылок, где метод разбирается более подробно:  \n",
    "http://cs231n.github.io/neural-networks-3/#sgd  \n",
    "https://distill.pub/2017/momentum/"
   ]
  },
  {
   "cell_type": "code",
   "execution_count": 17,
   "metadata": {},
   "outputs": [
    {
     "name": "stdout",
     "output_type": "stream",
     "text": [
      "Loss: 2.320441, Train accuracy: 0.196667, val accuracy: 0.206000\n",
      "Loss: 2.306046, Train accuracy: 0.196667, val accuracy: 0.206000\n",
      "Loss: 2.314545, Train accuracy: 0.196667, val accuracy: 0.206000\n",
      "Loss: 2.311941, Train accuracy: 0.196667, val accuracy: 0.206000\n",
      "Loss: 2.307131, Train accuracy: 0.196667, val accuracy: 0.206000\n",
      "Loss: 2.310947, Train accuracy: 0.196667, val accuracy: 0.206000\n",
      "Loss: 2.295170, Train accuracy: 0.196667, val accuracy: 0.206000\n",
      "Loss: 2.293194, Train accuracy: 0.196667, val accuracy: 0.206000\n",
      "Loss: 2.274361, Train accuracy: 0.196667, val accuracy: 0.206000\n",
      "Loss: 2.316933, Train accuracy: 0.196667, val accuracy: 0.206000\n",
      "Loss: 2.298599, Train accuracy: 0.196667, val accuracy: 0.206000\n",
      "Loss: 2.289553, Train accuracy: 0.196667, val accuracy: 0.206000\n",
      "Loss: 2.243401, Train accuracy: 0.196667, val accuracy: 0.206000\n",
      "Loss: 2.282653, Train accuracy: 0.196667, val accuracy: 0.206000\n",
      "Loss: 2.259952, Train accuracy: 0.196667, val accuracy: 0.206000\n",
      "Loss: 2.323000, Train accuracy: 0.196667, val accuracy: 0.206000\n",
      "Loss: 2.264292, Train accuracy: 0.196667, val accuracy: 0.206000\n",
      "Loss: 2.244319, Train accuracy: 0.196667, val accuracy: 0.206000\n",
      "Loss: 2.263627, Train accuracy: 0.196667, val accuracy: 0.206000\n",
      "Loss: 2.251008, Train accuracy: 0.196667, val accuracy: 0.206000\n"
     ]
    }
   ],
   "source": [
    "# TODO: Implement MomentumSGD.update function in optim.py\n",
    "\n",
    "model = TwoLayerNet(n_input = train_X.shape[1], n_output = 10, hidden_layer_size = 100, reg = 1e-1)\n",
    "dataset = Dataset(train_X, train_y, val_X, val_y)\n",
    "trainer = Trainer(model, dataset, MomentumSGD(), learning_rate=1e-4, learning_rate_decay=0.99)\n",
    "\n",
    "# You should see even better results than before!\n",
    "loss_history, train_history, val_history = trainer.fit()"
   ]
  },
  {
   "cell_type": "markdown",
   "metadata": {},
   "source": [
    "# Ну что, давайте уже тренировать сеть!"
   ]
  },
  {
   "cell_type": "markdown",
   "metadata": {},
   "source": [
    "## Последний тест - переобучимся (overfit) на маленьком наборе данных\n",
    "\n",
    "Хороший способ проверить, все ли реализовано корректно - переобучить сеть на маленьком наборе данных.  \n",
    "Наша модель обладает достаточной мощностью, чтобы приблизить маленький набор данных идеально, поэтому мы ожидаем, что на нем мы быстро дойдем до 100% точности на тренировочном наборе. \n",
    "\n",
    "Если этого не происходит, то где-то была допущена ошибка!"
   ]
  },
  {
   "cell_type": "code",
   "execution_count": 18,
   "metadata": {},
   "outputs": [
    {
     "name": "stdout",
     "output_type": "stream",
     "text": [
      "Loss: 2.334834, Train accuracy: 0.200000, val accuracy: 0.066667\n",
      "Loss: 2.312131, Train accuracy: 0.200000, val accuracy: 0.066667\n",
      "Loss: 2.333271, Train accuracy: 0.333333, val accuracy: 0.066667\n",
      "Loss: 2.294065, Train accuracy: 0.200000, val accuracy: 0.066667\n",
      "Loss: 2.303965, Train accuracy: 0.200000, val accuracy: 0.066667\n",
      "Loss: 2.234336, Train accuracy: 0.266667, val accuracy: 0.000000\n",
      "Loss: 2.349652, Train accuracy: 0.266667, val accuracy: 0.000000\n",
      "Loss: 2.261420, Train accuracy: 0.266667, val accuracy: 0.000000\n",
      "Loss: 2.196440, Train accuracy: 0.266667, val accuracy: 0.000000\n",
      "Loss: 2.316239, Train accuracy: 0.400000, val accuracy: 0.000000\n",
      "Loss: 1.860061, Train accuracy: 0.400000, val accuracy: 0.000000\n",
      "Loss: 2.021359, Train accuracy: 0.400000, val accuracy: 0.000000\n",
      "Loss: 2.178519, Train accuracy: 0.400000, val accuracy: 0.000000\n",
      "Loss: 1.862333, Train accuracy: 0.333333, val accuracy: 0.000000\n",
      "Loss: 1.279254, Train accuracy: 0.333333, val accuracy: 0.000000\n",
      "Loss: 2.169076, Train accuracy: 0.333333, val accuracy: 0.000000\n",
      "Loss: 1.613540, Train accuracy: 0.333333, val accuracy: 0.000000\n",
      "Loss: 2.354871, Train accuracy: 0.400000, val accuracy: 0.000000\n",
      "Loss: 2.023560, Train accuracy: 0.400000, val accuracy: 0.000000\n",
      "Loss: 1.977225, Train accuracy: 0.400000, val accuracy: 0.000000\n",
      "Loss: 1.719645, Train accuracy: 0.400000, val accuracy: 0.066667\n",
      "Loss: 1.428669, Train accuracy: 0.400000, val accuracy: 0.000000\n",
      "Loss: 1.623837, Train accuracy: 0.466667, val accuracy: 0.000000\n",
      "Loss: 1.519058, Train accuracy: 0.466667, val accuracy: 0.000000\n",
      "Loss: 2.134587, Train accuracy: 0.466667, val accuracy: 0.066667\n",
      "Loss: 1.373776, Train accuracy: 0.466667, val accuracy: 0.000000\n",
      "Loss: 1.391443, Train accuracy: 0.466667, val accuracy: 0.000000\n",
      "Loss: 1.348194, Train accuracy: 0.466667, val accuracy: 0.000000\n",
      "Loss: 2.126766, Train accuracy: 0.466667, val accuracy: 0.066667\n",
      "Loss: 1.847081, Train accuracy: 0.466667, val accuracy: 0.000000\n",
      "Loss: 1.107105, Train accuracy: 0.466667, val accuracy: 0.066667\n",
      "Loss: 2.222859, Train accuracy: 0.600000, val accuracy: 0.066667\n",
      "Loss: 1.606463, Train accuracy: 0.533333, val accuracy: 0.000000\n",
      "Loss: 1.228023, Train accuracy: 0.533333, val accuracy: 0.000000\n",
      "Loss: 2.093334, Train accuracy: 0.666667, val accuracy: 0.066667\n",
      "Loss: 1.374207, Train accuracy: 0.666667, val accuracy: 0.066667\n",
      "Loss: 1.580537, Train accuracy: 0.666667, val accuracy: 0.066667\n",
      "Loss: 1.599856, Train accuracy: 0.666667, val accuracy: 0.066667\n",
      "Loss: 1.574546, Train accuracy: 0.666667, val accuracy: 0.066667\n",
      "Loss: 1.535632, Train accuracy: 0.666667, val accuracy: 0.000000\n",
      "Loss: 1.656817, Train accuracy: 0.666667, val accuracy: 0.066667\n",
      "Loss: 1.267811, Train accuracy: 0.666667, val accuracy: 0.066667\n",
      "Loss: 1.489818, Train accuracy: 0.733333, val accuracy: 0.133333\n",
      "Loss: 1.403411, Train accuracy: 0.733333, val accuracy: 0.066667\n",
      "Loss: 1.192947, Train accuracy: 0.733333, val accuracy: 0.066667\n",
      "Loss: 1.530077, Train accuracy: 0.666667, val accuracy: 0.133333\n",
      "Loss: 1.257784, Train accuracy: 0.666667, val accuracy: 0.066667\n",
      "Loss: 1.354801, Train accuracy: 0.666667, val accuracy: 0.066667\n",
      "Loss: 1.220839, Train accuracy: 0.666667, val accuracy: 0.066667\n",
      "Loss: 1.690568, Train accuracy: 0.733333, val accuracy: 0.133333\n",
      "Loss: 1.132558, Train accuracy: 0.733333, val accuracy: 0.066667\n",
      "Loss: 1.114168, Train accuracy: 0.733333, val accuracy: 0.066667\n",
      "Loss: 0.803151, Train accuracy: 0.733333, val accuracy: 0.066667\n",
      "Loss: 1.268007, Train accuracy: 0.733333, val accuracy: 0.000000\n",
      "Loss: 1.851878, Train accuracy: 0.733333, val accuracy: 0.066667\n",
      "Loss: 1.644998, Train accuracy: 0.733333, val accuracy: 0.133333\n",
      "Loss: 1.844570, Train accuracy: 0.800000, val accuracy: 0.000000\n",
      "Loss: 1.347170, Train accuracy: 0.733333, val accuracy: 0.066667\n",
      "Loss: 1.285325, Train accuracy: 0.733333, val accuracy: 0.066667\n",
      "Loss: 1.373032, Train accuracy: 0.733333, val accuracy: 0.066667\n",
      "Loss: 1.646093, Train accuracy: 0.733333, val accuracy: 0.066667\n",
      "Loss: 1.374022, Train accuracy: 0.733333, val accuracy: 0.066667\n",
      "Loss: 1.444436, Train accuracy: 0.800000, val accuracy: 0.066667\n",
      "Loss: 1.517141, Train accuracy: 0.733333, val accuracy: 0.066667\n",
      "Loss: 1.310036, Train accuracy: 0.800000, val accuracy: 0.066667\n",
      "Loss: 1.391295, Train accuracy: 0.733333, val accuracy: 0.066667\n",
      "Loss: 1.206183, Train accuracy: 0.866667, val accuracy: 0.066667\n",
      "Loss: 1.412243, Train accuracy: 0.866667, val accuracy: 0.066667\n",
      "Loss: 1.240016, Train accuracy: 0.800000, val accuracy: 0.066667\n",
      "Loss: 1.246181, Train accuracy: 0.866667, val accuracy: 0.066667\n",
      "Loss: 1.269511, Train accuracy: 0.866667, val accuracy: 0.066667\n",
      "Loss: 1.669182, Train accuracy: 0.866667, val accuracy: 0.066667\n",
      "Loss: 1.531944, Train accuracy: 0.866667, val accuracy: 0.066667\n",
      "Loss: 1.488833, Train accuracy: 0.866667, val accuracy: 0.066667\n",
      "Loss: 1.264511, Train accuracy: 0.866667, val accuracy: 0.066667\n",
      "Loss: 1.733989, Train accuracy: 0.866667, val accuracy: 0.066667\n",
      "Loss: 1.215221, Train accuracy: 0.866667, val accuracy: 0.066667\n",
      "Loss: 1.005273, Train accuracy: 0.866667, val accuracy: 0.066667\n",
      "Loss: 1.377955, Train accuracy: 0.866667, val accuracy: 0.066667\n",
      "Loss: 1.301165, Train accuracy: 0.866667, val accuracy: 0.066667\n",
      "Loss: 1.529829, Train accuracy: 0.866667, val accuracy: 0.066667\n",
      "Loss: 1.558923, Train accuracy: 0.866667, val accuracy: 0.066667\n",
      "Loss: 1.240946, Train accuracy: 0.866667, val accuracy: 0.066667\n",
      "Loss: 1.331686, Train accuracy: 0.866667, val accuracy: 0.066667\n",
      "Loss: 1.676479, Train accuracy: 0.866667, val accuracy: 0.066667\n",
      "Loss: 1.683738, Train accuracy: 0.866667, val accuracy: 0.000000\n",
      "Loss: 1.504198, Train accuracy: 0.866667, val accuracy: 0.066667\n",
      "Loss: 1.553489, Train accuracy: 0.866667, val accuracy: 0.000000\n",
      "Loss: 1.107426, Train accuracy: 0.866667, val accuracy: 0.000000\n",
      "Loss: 1.046750, Train accuracy: 0.866667, val accuracy: 0.000000\n",
      "Loss: 1.482028, Train accuracy: 0.866667, val accuracy: 0.000000\n",
      "Loss: 1.086289, Train accuracy: 0.866667, val accuracy: 0.000000\n",
      "Loss: 0.970046, Train accuracy: 0.866667, val accuracy: 0.000000\n",
      "Loss: 1.661641, Train accuracy: 0.866667, val accuracy: 0.000000\n",
      "Loss: 2.058112, Train accuracy: 0.866667, val accuracy: 0.000000\n",
      "Loss: 1.152389, Train accuracy: 0.866667, val accuracy: 0.000000\n",
      "Loss: 0.951166, Train accuracy: 0.866667, val accuracy: 0.000000\n",
      "Loss: 1.666868, Train accuracy: 0.866667, val accuracy: 0.000000\n",
      "Loss: 0.999244, Train accuracy: 0.866667, val accuracy: 0.000000\n",
      "Loss: 1.355300, Train accuracy: 0.866667, val accuracy: 0.000000\n",
      "Loss: 1.083838, Train accuracy: 0.866667, val accuracy: 0.000000\n",
      "Loss: 1.714918, Train accuracy: 0.866667, val accuracy: 0.000000\n",
      "Loss: 1.506315, Train accuracy: 0.866667, val accuracy: 0.000000\n",
      "Loss: 1.365264, Train accuracy: 0.866667, val accuracy: 0.000000\n",
      "Loss: 1.148946, Train accuracy: 0.866667, val accuracy: 0.000000\n",
      "Loss: 1.335770, Train accuracy: 0.866667, val accuracy: 0.000000\n",
      "Loss: 1.330485, Train accuracy: 0.866667, val accuracy: 0.000000\n",
      "Loss: 1.589673, Train accuracy: 0.866667, val accuracy: 0.000000\n",
      "Loss: 1.521461, Train accuracy: 0.866667, val accuracy: 0.000000\n",
      "Loss: 1.515545, Train accuracy: 0.866667, val accuracy: 0.000000\n",
      "Loss: 1.054711, Train accuracy: 0.866667, val accuracy: 0.000000\n",
      "Loss: 1.585664, Train accuracy: 0.866667, val accuracy: 0.000000\n",
      "Loss: 1.457168, Train accuracy: 0.866667, val accuracy: 0.000000\n",
      "Loss: 1.006946, Train accuracy: 0.866667, val accuracy: 0.000000\n",
      "Loss: 1.583717, Train accuracy: 0.933333, val accuracy: 0.000000\n",
      "Loss: 1.051741, Train accuracy: 0.933333, val accuracy: 0.000000\n",
      "Loss: 1.190659, Train accuracy: 0.933333, val accuracy: 0.000000\n",
      "Loss: 1.265719, Train accuracy: 1.000000, val accuracy: 0.000000\n",
      "Loss: 1.835313, Train accuracy: 1.000000, val accuracy: 0.000000\n",
      "Loss: 1.397631, Train accuracy: 1.000000, val accuracy: 0.000000\n",
      "Loss: 1.574335, Train accuracy: 1.000000, val accuracy: 0.000000\n",
      "Loss: 1.055969, Train accuracy: 1.000000, val accuracy: 0.000000\n",
      "Loss: 1.247541, Train accuracy: 1.000000, val accuracy: 0.000000\n",
      "Loss: 1.397209, Train accuracy: 1.000000, val accuracy: 0.000000\n",
      "Loss: 1.110443, Train accuracy: 1.000000, val accuracy: 0.000000\n",
      "Loss: 1.492719, Train accuracy: 0.933333, val accuracy: 0.000000\n",
      "Loss: 1.201515, Train accuracy: 0.933333, val accuracy: 0.000000\n",
      "Loss: 1.526100, Train accuracy: 1.000000, val accuracy: 0.000000\n",
      "Loss: 1.277919, Train accuracy: 1.000000, val accuracy: 0.000000\n",
      "Loss: 1.386524, Train accuracy: 1.000000, val accuracy: 0.000000\n",
      "Loss: 1.209733, Train accuracy: 1.000000, val accuracy: 0.000000\n",
      "Loss: 1.243157, Train accuracy: 1.000000, val accuracy: 0.000000\n"
     ]
    },
    {
     "name": "stdout",
     "output_type": "stream",
     "text": [
      "Loss: 1.045923, Train accuracy: 1.000000, val accuracy: 0.000000\n",
      "Loss: 1.382928, Train accuracy: 1.000000, val accuracy: 0.000000\n",
      "Loss: 1.122145, Train accuracy: 0.933333, val accuracy: 0.000000\n",
      "Loss: 1.237052, Train accuracy: 1.000000, val accuracy: 0.000000\n",
      "Loss: 1.410154, Train accuracy: 1.000000, val accuracy: 0.000000\n",
      "Loss: 1.362168, Train accuracy: 1.000000, val accuracy: 0.000000\n",
      "Loss: 1.249234, Train accuracy: 1.000000, val accuracy: 0.000000\n",
      "Loss: 1.298005, Train accuracy: 1.000000, val accuracy: 0.000000\n",
      "Loss: 1.070719, Train accuracy: 1.000000, val accuracy: 0.000000\n",
      "Loss: 1.135429, Train accuracy: 1.000000, val accuracy: 0.000000\n",
      "Loss: 1.443530, Train accuracy: 1.000000, val accuracy: 0.000000\n",
      "Loss: 1.240980, Train accuracy: 1.000000, val accuracy: 0.000000\n",
      "Loss: 1.501325, Train accuracy: 1.000000, val accuracy: 0.000000\n",
      "Loss: 1.265618, Train accuracy: 1.000000, val accuracy: 0.000000\n",
      "Loss: 1.498467, Train accuracy: 1.000000, val accuracy: 0.000000\n",
      "Loss: 1.407925, Train accuracy: 1.000000, val accuracy: 0.000000\n",
      "Loss: 1.303073, Train accuracy: 1.000000, val accuracy: 0.000000\n",
      "Loss: 1.224745, Train accuracy: 1.000000, val accuracy: 0.000000\n"
     ]
    }
   ],
   "source": [
    "data_size = 15\n",
    "model = TwoLayerNet(n_input = train_X.shape[1], n_output = 10, hidden_layer_size = 100, reg = 1e-1)\n",
    "dataset = Dataset(train_X[:data_size], train_y[:data_size], val_X[:data_size], val_y[:data_size])\n",
    "trainer = Trainer(model, dataset, SGD(), learning_rate=1e-1, num_epochs=150, batch_size=5)\n",
    "\n",
    "# You should expect this to reach 1.0 training accuracy \n",
    "loss_history, train_history, val_history = trainer.fit()"
   ]
  },
  {
   "cell_type": "markdown",
   "metadata": {},
   "source": [
    "Теперь найдем гипепараметры, для которых этот процесс сходится быстрее.\n",
    "Если все реализовано корректно, то существуют параметры, при которых процесс сходится в **20** эпох или еще быстрее.\n",
    "Найдите их!"
   ]
  },
  {
   "cell_type": "code",
   "execution_count": 24,
   "metadata": {},
   "outputs": [
    {
     "name": "stdout",
     "output_type": "stream",
     "text": [
      "Loss: 2.339551, Train accuracy: 0.200000, val accuracy: 0.133333\n",
      "Loss: 2.312592, Train accuracy: 0.200000, val accuracy: 0.133333\n",
      "Loss: 2.321773, Train accuracy: 0.266667, val accuracy: 0.000000\n",
      "Loss: 2.331201, Train accuracy: 0.200000, val accuracy: 0.066667\n",
      "Loss: 2.308350, Train accuracy: 0.200000, val accuracy: 0.133333\n",
      "Loss: 2.271125, Train accuracy: 0.266667, val accuracy: 0.000000\n",
      "Loss: 2.279685, Train accuracy: 0.266667, val accuracy: 0.000000\n",
      "Loss: 2.246947, Train accuracy: 0.266667, val accuracy: 0.000000\n",
      "Loss: 2.116949, Train accuracy: 0.400000, val accuracy: 0.000000\n",
      "Loss: 1.961081, Train accuracy: 0.400000, val accuracy: 0.000000\n",
      "Loss: 2.322461, Train accuracy: 0.400000, val accuracy: 0.000000\n",
      "Loss: 1.898869, Train accuracy: 0.400000, val accuracy: 0.000000\n",
      "Loss: 2.166326, Train accuracy: 0.333333, val accuracy: 0.000000\n",
      "Loss: 2.126857, Train accuracy: 0.333333, val accuracy: 0.000000\n",
      "Loss: 2.294244, Train accuracy: 0.333333, val accuracy: 0.000000\n",
      "Loss: 1.934189, Train accuracy: 0.400000, val accuracy: 0.000000\n",
      "Loss: 1.795793, Train accuracy: 0.333333, val accuracy: 0.000000\n",
      "Loss: 1.824003, Train accuracy: 0.400000, val accuracy: 0.000000\n",
      "Loss: 1.916206, Train accuracy: 0.400000, val accuracy: 0.000000\n",
      "Loss: 1.621567, Train accuracy: 0.400000, val accuracy: 0.000000\n",
      "Loss: 1.476681, Train accuracy: 0.400000, val accuracy: 0.000000\n",
      "Loss: 1.613125, Train accuracy: 0.400000, val accuracy: 0.000000\n",
      "Loss: 1.517631, Train accuracy: 0.400000, val accuracy: 0.000000\n",
      "Loss: 1.803756, Train accuracy: 0.400000, val accuracy: 0.066667\n",
      "Loss: 1.920930, Train accuracy: 0.466667, val accuracy: 0.066667\n",
      "Loss: 1.332377, Train accuracy: 0.466667, val accuracy: 0.066667\n",
      "Loss: 2.342735, Train accuracy: 0.466667, val accuracy: 0.066667\n",
      "Loss: 1.535590, Train accuracy: 0.466667, val accuracy: 0.000000\n",
      "Loss: 1.788590, Train accuracy: 0.533333, val accuracy: 0.000000\n",
      "Loss: 1.528624, Train accuracy: 0.466667, val accuracy: 0.000000\n",
      "Loss: 1.790717, Train accuracy: 0.666667, val accuracy: 0.000000\n",
      "Loss: 1.390435, Train accuracy: 0.533333, val accuracy: 0.000000\n",
      "Loss: 1.251546, Train accuracy: 0.533333, val accuracy: 0.066667\n",
      "Loss: 2.043691, Train accuracy: 0.666667, val accuracy: 0.066667\n",
      "Loss: 2.383518, Train accuracy: 0.666667, val accuracy: 0.066667\n",
      "Loss: 2.443423, Train accuracy: 0.666667, val accuracy: 0.000000\n",
      "Loss: 1.419446, Train accuracy: 0.666667, val accuracy: 0.000000\n",
      "Loss: 1.261530, Train accuracy: 0.533333, val accuracy: 0.000000\n",
      "Loss: 1.298590, Train accuracy: 0.666667, val accuracy: 0.000000\n",
      "Loss: 1.247211, Train accuracy: 0.666667, val accuracy: 0.066667\n",
      "Loss: 0.833618, Train accuracy: 0.666667, val accuracy: 0.000000\n",
      "Loss: 1.710332, Train accuracy: 0.666667, val accuracy: 0.066667\n",
      "Loss: 1.398824, Train accuracy: 0.666667, val accuracy: 0.133333\n",
      "Loss: 1.339548, Train accuracy: 0.600000, val accuracy: 0.000000\n",
      "Loss: 1.126579, Train accuracy: 0.666667, val accuracy: 0.066667\n",
      "Loss: 1.666898, Train accuracy: 0.666667, val accuracy: 0.133333\n",
      "Loss: 1.275395, Train accuracy: 0.666667, val accuracy: 0.133333\n",
      "Loss: 1.283176, Train accuracy: 0.733333, val accuracy: 0.066667\n",
      "Loss: 1.420600, Train accuracy: 0.733333, val accuracy: 0.066667\n",
      "Loss: 1.838494, Train accuracy: 0.733333, val accuracy: 0.066667\n",
      "Loss: 1.505896, Train accuracy: 0.733333, val accuracy: 0.066667\n",
      "Loss: 1.554156, Train accuracy: 0.733333, val accuracy: 0.066667\n",
      "Loss: 1.488792, Train accuracy: 0.733333, val accuracy: 0.066667\n",
      "Loss: 1.596125, Train accuracy: 0.733333, val accuracy: 0.066667\n",
      "Loss: 1.409999, Train accuracy: 0.733333, val accuracy: 0.066667\n",
      "Loss: 1.235928, Train accuracy: 0.733333, val accuracy: 0.066667\n",
      "Loss: 1.703336, Train accuracy: 0.733333, val accuracy: 0.066667\n",
      "Loss: 1.085801, Train accuracy: 0.733333, val accuracy: 0.066667\n",
      "Loss: 1.521119, Train accuracy: 0.733333, val accuracy: 0.066667\n",
      "Loss: 1.410401, Train accuracy: 0.733333, val accuracy: 0.066667\n",
      "Loss: 1.627205, Train accuracy: 0.733333, val accuracy: 0.066667\n",
      "Loss: 1.554162, Train accuracy: 0.733333, val accuracy: 0.066667\n",
      "Loss: 1.402023, Train accuracy: 0.733333, val accuracy: 0.066667\n",
      "Loss: 1.693440, Train accuracy: 0.733333, val accuracy: 0.066667\n",
      "Loss: 1.235953, Train accuracy: 0.733333, val accuracy: 0.066667\n",
      "Loss: 1.296775, Train accuracy: 0.733333, val accuracy: 0.066667\n",
      "Loss: 0.970306, Train accuracy: 0.733333, val accuracy: 0.066667\n",
      "Loss: 1.232943, Train accuracy: 0.733333, val accuracy: 0.066667\n",
      "Loss: 1.672487, Train accuracy: 0.800000, val accuracy: 0.066667\n",
      "Loss: 1.241228, Train accuracy: 0.800000, val accuracy: 0.066667\n",
      "Loss: 1.573523, Train accuracy: 0.800000, val accuracy: 0.066667\n",
      "Loss: 0.937169, Train accuracy: 0.800000, val accuracy: 0.066667\n",
      "Loss: 2.066589, Train accuracy: 0.800000, val accuracy: 0.066667\n",
      "Loss: 1.080575, Train accuracy: 0.800000, val accuracy: 0.066667\n",
      "Loss: 1.588727, Train accuracy: 0.800000, val accuracy: 0.066667\n",
      "Loss: 1.642755, Train accuracy: 0.800000, val accuracy: 0.066667\n",
      "Loss: 1.187054, Train accuracy: 0.800000, val accuracy: 0.066667\n",
      "Loss: 1.663642, Train accuracy: 0.800000, val accuracy: 0.066667\n",
      "Loss: 1.313983, Train accuracy: 0.866667, val accuracy: 0.066667\n",
      "Loss: 1.248384, Train accuracy: 0.866667, val accuracy: 0.066667\n",
      "Loss: 1.592949, Train accuracy: 0.866667, val accuracy: 0.066667\n",
      "Loss: 1.503375, Train accuracy: 0.866667, val accuracy: 0.066667\n",
      "Loss: 1.936271, Train accuracy: 0.866667, val accuracy: 0.066667\n",
      "Loss: 1.523819, Train accuracy: 0.866667, val accuracy: 0.066667\n",
      "Loss: 1.405380, Train accuracy: 0.866667, val accuracy: 0.066667\n",
      "Loss: 0.913673, Train accuracy: 0.866667, val accuracy: 0.066667\n",
      "Loss: 1.219831, Train accuracy: 0.866667, val accuracy: 0.066667\n",
      "Loss: 1.285325, Train accuracy: 0.866667, val accuracy: 0.066667\n",
      "Loss: 1.406117, Train accuracy: 0.866667, val accuracy: 0.066667\n",
      "Loss: 1.151408, Train accuracy: 0.866667, val accuracy: 0.066667\n",
      "Loss: 1.499241, Train accuracy: 0.866667, val accuracy: 0.066667\n",
      "Loss: 1.131361, Train accuracy: 0.866667, val accuracy: 0.000000\n",
      "Loss: 1.073733, Train accuracy: 0.866667, val accuracy: 0.066667\n",
      "Loss: 1.380043, Train accuracy: 0.866667, val accuracy: 0.000000\n",
      "Loss: 1.372219, Train accuracy: 0.866667, val accuracy: 0.066667\n",
      "Loss: 1.322330, Train accuracy: 0.866667, val accuracy: 0.000000\n",
      "Loss: 1.281288, Train accuracy: 0.933333, val accuracy: 0.000000\n",
      "Loss: 0.980840, Train accuracy: 0.933333, val accuracy: 0.000000\n",
      "Loss: 1.397943, Train accuracy: 0.866667, val accuracy: 0.000000\n",
      "Loss: 1.730263, Train accuracy: 0.933333, val accuracy: 0.000000\n",
      "Loss: 1.263239, Train accuracy: 0.866667, val accuracy: 0.000000\n",
      "Loss: 1.056579, Train accuracy: 0.933333, val accuracy: 0.000000\n",
      "Loss: 1.592076, Train accuracy: 0.933333, val accuracy: 0.000000\n",
      "Loss: 1.367826, Train accuracy: 0.933333, val accuracy: 0.000000\n",
      "Loss: 1.229199, Train accuracy: 0.933333, val accuracy: 0.000000\n",
      "Loss: 1.469908, Train accuracy: 0.933333, val accuracy: 0.000000\n",
      "Loss: 1.066298, Train accuracy: 0.933333, val accuracy: 0.000000\n",
      "Loss: 1.241288, Train accuracy: 0.933333, val accuracy: 0.000000\n",
      "Loss: 1.186852, Train accuracy: 1.000000, val accuracy: 0.000000\n",
      "Loss: 1.413347, Train accuracy: 1.000000, val accuracy: 0.000000\n",
      "Loss: 1.276454, Train accuracy: 1.000000, val accuracy: 0.000000\n",
      "Loss: 1.437003, Train accuracy: 1.000000, val accuracy: 0.000000\n",
      "Loss: 1.028449, Train accuracy: 1.000000, val accuracy: 0.000000\n",
      "Loss: 1.069976, Train accuracy: 1.000000, val accuracy: 0.000000\n",
      "Loss: 0.985217, Train accuracy: 1.000000, val accuracy: 0.000000\n",
      "Loss: 1.095275, Train accuracy: 1.000000, val accuracy: 0.000000\n",
      "Loss: 1.309056, Train accuracy: 1.000000, val accuracy: 0.000000\n",
      "Loss: 1.453381, Train accuracy: 0.933333, val accuracy: 0.000000\n",
      "Loss: 1.277014, Train accuracy: 1.000000, val accuracy: 0.000000\n",
      "Loss: 1.130614, Train accuracy: 1.000000, val accuracy: 0.000000\n",
      "Loss: 0.989354, Train accuracy: 1.000000, val accuracy: 0.000000\n",
      "Loss: 1.164503, Train accuracy: 1.000000, val accuracy: 0.000000\n",
      "Loss: 1.149083, Train accuracy: 1.000000, val accuracy: 0.000000\n",
      "Loss: 1.683750, Train accuracy: 1.000000, val accuracy: 0.000000\n",
      "Loss: 1.525333, Train accuracy: 1.000000, val accuracy: 0.000000\n",
      "Loss: 1.213646, Train accuracy: 1.000000, val accuracy: 0.000000\n",
      "Loss: 1.553573, Train accuracy: 1.000000, val accuracy: 0.000000\n",
      "Loss: 1.637850, Train accuracy: 1.000000, val accuracy: 0.000000\n",
      "Loss: 1.482523, Train accuracy: 1.000000, val accuracy: 0.000000\n"
     ]
    },
    {
     "name": "stdout",
     "output_type": "stream",
     "text": [
      "Loss: 1.678476, Train accuracy: 1.000000, val accuracy: 0.000000\n",
      "Loss: 1.359914, Train accuracy: 1.000000, val accuracy: 0.000000\n",
      "Loss: 1.475170, Train accuracy: 1.000000, val accuracy: 0.000000\n",
      "Loss: 1.175276, Train accuracy: 1.000000, val accuracy: 0.000000\n",
      "Loss: 1.229177, Train accuracy: 1.000000, val accuracy: 0.000000\n",
      "Loss: 1.322708, Train accuracy: 1.000000, val accuracy: 0.000000\n",
      "Loss: 1.110534, Train accuracy: 1.000000, val accuracy: 0.000000\n",
      "Loss: 1.281835, Train accuracy: 1.000000, val accuracy: 0.000000\n",
      "Loss: 1.475421, Train accuracy: 1.000000, val accuracy: 0.000000\n",
      "Loss: 1.415768, Train accuracy: 1.000000, val accuracy: 0.000000\n",
      "Loss: 1.222506, Train accuracy: 1.000000, val accuracy: 0.000000\n",
      "Loss: 1.340799, Train accuracy: 1.000000, val accuracy: 0.000000\n",
      "Loss: 1.261167, Train accuracy: 1.000000, val accuracy: 0.000000\n",
      "Loss: 1.285853, Train accuracy: 1.000000, val accuracy: 0.000000\n",
      "Loss: 1.430879, Train accuracy: 1.000000, val accuracy: 0.000000\n",
      "Loss: 1.290391, Train accuracy: 1.000000, val accuracy: 0.000000\n",
      "Loss: 1.311078, Train accuracy: 1.000000, val accuracy: 0.000000\n",
      "Loss: 1.407619, Train accuracy: 1.000000, val accuracy: 0.000000\n",
      "Loss: 1.396703, Train accuracy: 1.000000, val accuracy: 0.000000\n",
      "Loss: 1.193986, Train accuracy: 1.000000, val accuracy: 0.000000\n",
      "Loss: 1.450932, Train accuracy: 1.000000, val accuracy: 0.000000\n",
      "Loss: 1.322119, Train accuracy: 1.000000, val accuracy: 0.000000\n",
      "Loss: 1.448938, Train accuracy: 1.000000, val accuracy: 0.000000\n",
      "Loss: 1.260454, Train accuracy: 1.000000, val accuracy: 0.000000\n",
      "Loss: 1.495815, Train accuracy: 1.000000, val accuracy: 0.000000\n",
      "Loss: 1.560872, Train accuracy: 1.000000, val accuracy: 0.000000\n",
      "Loss: 1.393106, Train accuracy: 1.000000, val accuracy: 0.000000\n",
      "Loss: 1.287891, Train accuracy: 1.000000, val accuracy: 0.000000\n",
      "Loss: 1.608180, Train accuracy: 1.000000, val accuracy: 0.000000\n",
      "Loss: 1.432516, Train accuracy: 1.000000, val accuracy: 0.000000\n",
      "Loss: 1.459096, Train accuracy: 1.000000, val accuracy: 0.000000\n",
      "Loss: 1.341239, Train accuracy: 1.000000, val accuracy: 0.000000\n",
      "Loss: 1.364490, Train accuracy: 1.000000, val accuracy: 0.000000\n",
      "Loss: 1.193089, Train accuracy: 1.000000, val accuracy: 0.000000\n",
      "Loss: 1.182492, Train accuracy: 1.000000, val accuracy: 0.000000\n",
      "Loss: 1.250418, Train accuracy: 1.000000, val accuracy: 0.000000\n",
      "Loss: 1.244660, Train accuracy: 1.000000, val accuracy: 0.000000\n",
      "Loss: 1.061649, Train accuracy: 1.000000, val accuracy: 0.000000\n",
      "Loss: 1.631556, Train accuracy: 1.000000, val accuracy: 0.000000\n",
      "Loss: 1.308178, Train accuracy: 1.000000, val accuracy: 0.000000\n",
      "Loss: 1.484592, Train accuracy: 1.000000, val accuracy: 0.000000\n",
      "Loss: 1.238938, Train accuracy: 1.000000, val accuracy: 0.000000\n",
      "Loss: 1.184381, Train accuracy: 1.000000, val accuracy: 0.000000\n",
      "Loss: 1.531288, Train accuracy: 1.000000, val accuracy: 0.000000\n",
      "Loss: 1.427903, Train accuracy: 1.000000, val accuracy: 0.000000\n",
      "Loss: 1.025520, Train accuracy: 1.000000, val accuracy: 0.000000\n",
      "Loss: 1.253910, Train accuracy: 1.000000, val accuracy: 0.000000\n",
      "Loss: 1.305960, Train accuracy: 1.000000, val accuracy: 0.000000\n",
      "Loss: 1.555892, Train accuracy: 1.000000, val accuracy: 0.000000\n",
      "Loss: 1.385367, Train accuracy: 1.000000, val accuracy: 0.000000\n",
      "Loss: 1.120432, Train accuracy: 1.000000, val accuracy: 0.000000\n",
      "Loss: 1.298409, Train accuracy: 1.000000, val accuracy: 0.000000\n",
      "Loss: 1.250757, Train accuracy: 1.000000, val accuracy: 0.000000\n",
      "Loss: 1.188061, Train accuracy: 1.000000, val accuracy: 0.000000\n",
      "Loss: 1.405556, Train accuracy: 1.000000, val accuracy: 0.000000\n",
      "Loss: 1.202490, Train accuracy: 1.000000, val accuracy: 0.000000\n",
      "Loss: 1.254104, Train accuracy: 1.000000, val accuracy: 0.000000\n",
      "Loss: 1.374135, Train accuracy: 1.000000, val accuracy: 0.000000\n",
      "Loss: 1.477338, Train accuracy: 1.000000, val accuracy: 0.000000\n",
      "Loss: 1.411098, Train accuracy: 1.000000, val accuracy: 0.000000\n",
      "Loss: 1.284834, Train accuracy: 1.000000, val accuracy: 0.000000\n",
      "Loss: 1.574972, Train accuracy: 1.000000, val accuracy: 0.000000\n",
      "Loss: 1.190923, Train accuracy: 1.000000, val accuracy: 0.000000\n",
      "Loss: 1.312259, Train accuracy: 1.000000, val accuracy: 0.000000\n",
      "Loss: 1.315760, Train accuracy: 1.000000, val accuracy: 0.000000\n",
      "Loss: 1.512121, Train accuracy: 1.000000, val accuracy: 0.000000\n",
      "Loss: 1.341152, Train accuracy: 1.000000, val accuracy: 0.000000\n",
      "Loss: 1.268201, Train accuracy: 1.000000, val accuracy: 0.000000\n",
      "Loss: 1.297279, Train accuracy: 1.000000, val accuracy: 0.000000\n",
      "Loss: 1.122690, Train accuracy: 1.000000, val accuracy: 0.000000\n",
      "Loss: 1.121455, Train accuracy: 1.000000, val accuracy: 0.000000\n"
     ]
    }
   ],
   "source": [
    "# Now, tweak some hyper parameters and make it train to 1.0 accuracy in 20 epochs or less\n",
    "\n",
    "model = TwoLayerNet(n_input = train_X.shape[1], n_output = 10, hidden_layer_size = 100, reg = 1e-1)\n",
    "dataset = Dataset(train_X[:data_size], train_y[:data_size], val_X[:data_size], val_y[:data_size])\n",
    "# TODO: Change any hyperparamers or optimizators to reach training accuracy in 20 epochs\n",
    "trainer = Trainer(model, dataset, SGD(), learning_rate=1e-1, num_epochs=200, batch_size=5)\n",
    "\n",
    "loss_history, train_history, val_history = trainer.fit()"
   ]
  },
  {
   "cell_type": "markdown",
   "metadata": {},
   "source": [
    "# Итак, основное мероприятие!\n",
    "\n",
    "Натренируйте лучшую нейросеть! Можно добавлять и изменять параметры, менять количество нейронов в слоях сети и как угодно экспериментировать. \n",
    "\n",
    "Добейтесь точности лучше **60%** на validation set."
   ]
  },
  {
   "cell_type": "code",
   "execution_count": 36,
   "metadata": {},
   "outputs": [],
   "source": [
    "# Let's train the best one-hidden-layer network we can\n",
    "\n",
    "learning_rates = [1e-2, 1e-1]\n",
    "reg_strengths = [1e-3, 1e-2]\n",
    "learning_rate_decay = [0.9, 0.99]\n",
    "hidden_layer_sizes = [128, 256]\n",
    "num_epochs = [100]\n",
    "batch_sizes = [64]\n",
    "\n",
    "best_classifier = None\n",
    "best_val_accuracy = None\n",
    "\n",
    "\n",
    "loss_history = []\n",
    "train_history = []\n",
    "val_history = []"
   ]
  },
  {
   "cell_type": "code",
   "execution_count": 37,
   "metadata": {},
   "outputs": [
    {
     "name": "stdout",
     "output_type": "stream",
     "text": [
      "\n",
      "============Loop # 1...============\n",
      "Loss: 2.260030, Train accuracy: 0.196667, val accuracy: 0.206000\n",
      "Loss: 2.167200, Train accuracy: 0.196667, val accuracy: 0.206000\n",
      "Loss: 2.131089, Train accuracy: 0.196667, val accuracy: 0.206000\n",
      "Loss: 2.156050, Train accuracy: 0.230333, val accuracy: 0.239000\n",
      "Loss: 2.084240, Train accuracy: 0.264889, val accuracy: 0.263000\n",
      "Loss: 2.015680, Train accuracy: 0.285778, val accuracy: 0.291000\n",
      "Loss: 1.997574, Train accuracy: 0.347444, val accuracy: 0.361000\n",
      "Loss: 2.065907, Train accuracy: 0.392111, val accuracy: 0.377000\n",
      "Loss: 1.788769, Train accuracy: 0.438556, val accuracy: 0.414000\n",
      "Loss: 1.953255, Train accuracy: 0.466667, val accuracy: 0.457000\n",
      "Loss: 1.868981, Train accuracy: 0.494778, val accuracy: 0.496000\n",
      "Loss: 1.812216, Train accuracy: 0.533222, val accuracy: 0.524000\n",
      "Loss: 1.917328, Train accuracy: 0.556000, val accuracy: 0.564000\n",
      "Loss: 1.777495, Train accuracy: 0.566111, val accuracy: 0.566000\n",
      "Loss: 1.937980, Train accuracy: 0.555889, val accuracy: 0.555000\n",
      "Loss: 1.733302, Train accuracy: 0.566667, val accuracy: 0.571000\n",
      "Loss: 1.587539, Train accuracy: 0.593556, val accuracy: 0.602000\n",
      "Loss: 1.741220, Train accuracy: 0.603889, val accuracy: 0.599000\n",
      "Loss: 1.918338, Train accuracy: 0.625778, val accuracy: 0.608000\n",
      "Loss: 1.682300, Train accuracy: 0.610889, val accuracy: 0.610000\n",
      "Loss: 1.826319, Train accuracy: 0.628000, val accuracy: 0.624000\n",
      "Loss: 1.763186, Train accuracy: 0.631889, val accuracy: 0.622000\n",
      "Loss: 1.656588, Train accuracy: 0.623333, val accuracy: 0.619000\n",
      "Loss: 1.855556, Train accuracy: 0.637889, val accuracy: 0.632000\n",
      "Loss: 1.855895, Train accuracy: 0.633111, val accuracy: 0.604000\n",
      "Loss: 1.870656, Train accuracy: 0.634000, val accuracy: 0.631000\n",
      "Loss: 1.718721, Train accuracy: 0.621111, val accuracy: 0.623000\n",
      "Loss: 1.800292, Train accuracy: 0.649444, val accuracy: 0.643000\n",
      "Loss: 1.561925, Train accuracy: 0.645889, val accuracy: 0.624000\n",
      "Loss: 1.841495, Train accuracy: 0.653778, val accuracy: 0.654000\n",
      "Loss: 1.512565, Train accuracy: 0.639000, val accuracy: 0.638000\n",
      "Loss: 1.677647, Train accuracy: 0.639778, val accuracy: 0.637000\n",
      "Loss: 1.674769, Train accuracy: 0.647444, val accuracy: 0.641000\n",
      "Loss: 1.820845, Train accuracy: 0.661111, val accuracy: 0.639000\n",
      "Loss: 1.701864, Train accuracy: 0.647000, val accuracy: 0.641000\n",
      "Loss: 1.741873, Train accuracy: 0.645667, val accuracy: 0.633000\n",
      "Loss: 1.653468, Train accuracy: 0.638000, val accuracy: 0.635000\n",
      "Loss: 1.450261, Train accuracy: 0.664556, val accuracy: 0.648000\n",
      "Loss: 1.674733, Train accuracy: 0.658778, val accuracy: 0.647000\n",
      "Loss: 1.818688, Train accuracy: 0.657556, val accuracy: 0.654000\n",
      "Loss: 1.681690, Train accuracy: 0.658778, val accuracy: 0.653000\n",
      "Loss: 1.735033, Train accuracy: 0.670667, val accuracy: 0.661000\n",
      "Loss: 1.761800, Train accuracy: 0.659000, val accuracy: 0.651000\n",
      "Loss: 1.659947, Train accuracy: 0.669667, val accuracy: 0.676000\n",
      "Loss: 1.637793, Train accuracy: 0.641444, val accuracy: 0.624000\n",
      "Loss: 1.600005, Train accuracy: 0.651667, val accuracy: 0.641000\n",
      "Loss: 1.746574, Train accuracy: 0.663444, val accuracy: 0.650000\n",
      "Loss: 1.783472, Train accuracy: 0.656556, val accuracy: 0.647000\n",
      "Loss: 1.828390, Train accuracy: 0.674667, val accuracy: 0.664000\n",
      "Loss: 1.852240, Train accuracy: 0.664333, val accuracy: 0.660000\n",
      "Loss: 1.771019, Train accuracy: 0.674333, val accuracy: 0.649000\n",
      "Loss: 2.076328, Train accuracy: 0.654889, val accuracy: 0.633000\n",
      "Loss: 1.871224, Train accuracy: 0.664778, val accuracy: 0.645000\n",
      "Loss: 1.673243, Train accuracy: 0.660444, val accuracy: 0.645000\n",
      "Loss: 2.000807, Train accuracy: 0.654667, val accuracy: 0.644000\n",
      "Loss: 1.890713, Train accuracy: 0.664778, val accuracy: 0.644000\n",
      "Loss: 1.817977, Train accuracy: 0.665222, val accuracy: 0.660000\n",
      "Loss: 1.843390, Train accuracy: 0.646667, val accuracy: 0.648000\n",
      "Loss: 1.823056, Train accuracy: 0.672444, val accuracy: 0.668000\n",
      "Loss: 1.759875, Train accuracy: 0.651333, val accuracy: 0.639000\n",
      "Loss: 1.770778, Train accuracy: 0.670333, val accuracy: 0.667000\n",
      "Loss: 1.942357, Train accuracy: 0.671333, val accuracy: 0.651000\n",
      "Loss: 1.830326, Train accuracy: 0.654667, val accuracy: 0.640000\n",
      "Loss: 1.873173, Train accuracy: 0.665222, val accuracy: 0.646000\n",
      "Loss: 1.980175, Train accuracy: 0.670889, val accuracy: 0.660000\n",
      "Loss: 1.634461, Train accuracy: 0.669222, val accuracy: 0.646000\n",
      "Loss: 1.611169, Train accuracy: 0.666889, val accuracy: 0.652000\n",
      "Loss: 1.804311, Train accuracy: 0.657000, val accuracy: 0.637000\n",
      "Loss: 1.851404, Train accuracy: 0.662444, val accuracy: 0.640000\n",
      "Loss: 1.602699, Train accuracy: 0.674000, val accuracy: 0.662000\n",
      "Loss: 1.833376, Train accuracy: 0.667111, val accuracy: 0.657000\n",
      "Loss: 1.739832, Train accuracy: 0.661333, val accuracy: 0.655000\n",
      "Loss: 1.752097, Train accuracy: 0.658000, val accuracy: 0.638000\n",
      "Loss: 1.415997, Train accuracy: 0.681111, val accuracy: 0.673000\n",
      "Loss: 1.638063, Train accuracy: 0.671556, val accuracy: 0.647000\n",
      "Loss: 2.026423, Train accuracy: 0.660000, val accuracy: 0.649000\n",
      "Loss: 1.750610, Train accuracy: 0.659667, val accuracy: 0.643000\n",
      "Loss: 1.684106, Train accuracy: 0.672333, val accuracy: 0.654000\n",
      "Loss: 2.134734, Train accuracy: 0.670000, val accuracy: 0.657000\n",
      "Loss: 1.692537, Train accuracy: 0.673333, val accuracy: 0.656000\n",
      "Loss: 2.038988, Train accuracy: 0.666333, val accuracy: 0.654000\n",
      "Loss: 1.948275, Train accuracy: 0.671333, val accuracy: 0.658000\n",
      "Loss: 1.838849, Train accuracy: 0.667111, val accuracy: 0.652000\n",
      "Loss: 1.745445, Train accuracy: 0.660222, val accuracy: 0.641000\n",
      "Loss: 1.912481, Train accuracy: 0.667889, val accuracy: 0.659000\n",
      "Loss: 1.738781, Train accuracy: 0.659889, val accuracy: 0.639000\n",
      "Loss: 1.846036, Train accuracy: 0.676556, val accuracy: 0.664000\n",
      "Loss: 1.959849, Train accuracy: 0.673000, val accuracy: 0.651000\n",
      "Loss: 1.607264, Train accuracy: 0.682111, val accuracy: 0.653000\n",
      "Loss: 1.853707, Train accuracy: 0.670778, val accuracy: 0.657000\n",
      "Loss: 1.775151, Train accuracy: 0.669556, val accuracy: 0.656000\n",
      "Loss: 1.631854, Train accuracy: 0.655222, val accuracy: 0.650000\n",
      "Loss: 1.777576, Train accuracy: 0.677444, val accuracy: 0.662000\n",
      "Loss: 2.106354, Train accuracy: 0.670778, val accuracy: 0.654000\n",
      "Loss: 1.784302, Train accuracy: 0.682889, val accuracy: 0.675000\n",
      "Loss: 1.507412, Train accuracy: 0.682222, val accuracy: 0.665000\n",
      "Loss: 1.769216, Train accuracy: 0.663000, val accuracy: 0.659000\n",
      "Loss: 1.618288, Train accuracy: 0.669111, val accuracy: 0.656000\n",
      "Loss: 1.698929, Train accuracy: 0.676111, val accuracy: 0.682000\n",
      "Loss: 1.816867, Train accuracy: 0.679222, val accuracy: 0.652000\n",
      "==========\n",
      "learning rate = 0.01 reg = 0.01 accuracy = 0.652 number of epochs = 100 batch size = 64 hidden layer size = 64 \n",
      "==========\n",
      "\n",
      "============Loop # 2...============\n",
      "Loss: 2.016835, Train accuracy: 0.258889, val accuracy: 0.268000\n",
      "Loss: 1.818934, Train accuracy: 0.383778, val accuracy: 0.405000\n",
      "Loss: 2.139574, Train accuracy: 0.420333, val accuracy: 0.407000\n",
      "Loss: 2.371142, Train accuracy: 0.451222, val accuracy: 0.457000\n",
      "Loss: 2.262388, Train accuracy: 0.461333, val accuracy: 0.480000\n",
      "Loss: 2.202725, Train accuracy: 0.364667, val accuracy: 0.368000\n",
      "Loss: 2.585984, Train accuracy: 0.430333, val accuracy: 0.417000\n",
      "Loss: 2.336629, Train accuracy: 0.385333, val accuracy: 0.403000\n",
      "Loss: 2.419992, Train accuracy: 0.398667, val accuracy: 0.421000\n",
      "Loss: 1.898190, Train accuracy: 0.459778, val accuracy: 0.462000\n",
      "Loss: 2.188939, Train accuracy: 0.394889, val accuracy: 0.408000\n",
      "Loss: 2.091397, Train accuracy: 0.402778, val accuracy: 0.414000\n",
      "Loss: 1.974424, Train accuracy: 0.429444, val accuracy: 0.437000\n",
      "Loss: 2.088029, Train accuracy: 0.428778, val accuracy: 0.454000\n",
      "Loss: 2.127415, Train accuracy: 0.458556, val accuracy: 0.489000\n",
      "Loss: 2.125650, Train accuracy: 0.441778, val accuracy: 0.468000\n",
      "Loss: 1.930840, Train accuracy: 0.412444, val accuracy: 0.432000\n",
      "Loss: 2.191221, Train accuracy: 0.385222, val accuracy: 0.402000\n",
      "Loss: 1.815529, Train accuracy: 0.444333, val accuracy: 0.450000\n",
      "Loss: 2.199447, Train accuracy: 0.436556, val accuracy: 0.445000\n",
      "Loss: 2.174730, Train accuracy: 0.373889, val accuracy: 0.366000\n",
      "Loss: 1.870700, Train accuracy: 0.431333, val accuracy: 0.447000\n",
      "Loss: 2.093553, Train accuracy: 0.387667, val accuracy: 0.381000\n"
     ]
    },
    {
     "name": "stdout",
     "output_type": "stream",
     "text": [
      "Loss: 2.137714, Train accuracy: 0.419000, val accuracy: 0.441000\n",
      "Loss: 2.089321, Train accuracy: 0.434111, val accuracy: 0.450000\n",
      "Loss: 2.035701, Train accuracy: 0.417111, val accuracy: 0.425000\n",
      "Loss: 2.075449, Train accuracy: 0.431444, val accuracy: 0.457000\n",
      "Loss: 2.051761, Train accuracy: 0.413111, val accuracy: 0.426000\n",
      "Loss: 1.893629, Train accuracy: 0.387333, val accuracy: 0.395000\n",
      "Loss: 1.742760, Train accuracy: 0.398556, val accuracy: 0.414000\n",
      "Loss: 2.059977, Train accuracy: 0.402444, val accuracy: 0.426000\n",
      "Loss: 2.002266, Train accuracy: 0.404778, val accuracy: 0.423000\n",
      "Loss: 2.115834, Train accuracy: 0.397222, val accuracy: 0.409000\n",
      "Loss: 2.081105, Train accuracy: 0.437333, val accuracy: 0.435000\n",
      "Loss: 2.105368, Train accuracy: 0.371556, val accuracy: 0.400000\n",
      "Loss: 2.000365, Train accuracy: 0.372889, val accuracy: 0.387000\n",
      "Loss: 1.785240, Train accuracy: 0.406889, val accuracy: 0.404000\n",
      "Loss: 2.135731, Train accuracy: 0.375333, val accuracy: 0.375000\n",
      "Loss: 2.167909, Train accuracy: 0.422444, val accuracy: 0.425000\n",
      "Loss: 1.843776, Train accuracy: 0.411667, val accuracy: 0.430000\n",
      "Loss: 2.165627, Train accuracy: 0.415889, val accuracy: 0.434000\n",
      "Loss: 2.105716, Train accuracy: 0.421556, val accuracy: 0.414000\n",
      "Loss: 1.843557, Train accuracy: 0.429111, val accuracy: 0.429000\n",
      "Loss: 2.082412, Train accuracy: 0.383000, val accuracy: 0.405000\n",
      "Loss: 1.811865, Train accuracy: 0.430000, val accuracy: 0.423000\n",
      "Loss: 2.198158, Train accuracy: 0.411111, val accuracy: 0.415000\n",
      "Loss: 1.847621, Train accuracy: 0.445000, val accuracy: 0.440000\n",
      "Loss: 2.121295, Train accuracy: 0.393444, val accuracy: 0.411000\n",
      "Loss: 2.323530, Train accuracy: 0.448444, val accuracy: 0.447000\n",
      "Loss: 2.174724, Train accuracy: 0.385778, val accuracy: 0.389000\n",
      "Loss: 2.238174, Train accuracy: 0.416667, val accuracy: 0.426000\n",
      "Loss: 1.905881, Train accuracy: 0.407667, val accuracy: 0.419000\n",
      "Loss: 2.203018, Train accuracy: 0.389778, val accuracy: 0.419000\n",
      "Loss: 2.373888, Train accuracy: 0.350667, val accuracy: 0.346000\n",
      "Loss: 2.163507, Train accuracy: 0.380444, val accuracy: 0.391000\n",
      "Loss: 2.114232, Train accuracy: 0.418778, val accuracy: 0.423000\n",
      "Loss: 2.255417, Train accuracy: 0.412111, val accuracy: 0.422000\n",
      "Loss: 2.280773, Train accuracy: 0.426222, val accuracy: 0.438000\n",
      "Loss: 2.152087, Train accuracy: 0.347778, val accuracy: 0.345000\n",
      "Loss: 2.289890, Train accuracy: 0.401000, val accuracy: 0.398000\n",
      "Loss: 1.671866, Train accuracy: 0.365222, val accuracy: 0.373000\n",
      "Loss: 1.942986, Train accuracy: 0.370000, val accuracy: 0.383000\n",
      "Loss: 1.837338, Train accuracy: 0.371778, val accuracy: 0.385000\n",
      "Loss: 2.159940, Train accuracy: 0.364556, val accuracy: 0.386000\n",
      "Loss: 1.926819, Train accuracy: 0.386889, val accuracy: 0.403000\n",
      "Loss: 2.268689, Train accuracy: 0.394333, val accuracy: 0.410000\n",
      "Loss: 2.198967, Train accuracy: 0.364444, val accuracy: 0.355000\n",
      "Loss: 2.205417, Train accuracy: 0.403556, val accuracy: 0.424000\n",
      "Loss: 2.011951, Train accuracy: 0.429556, val accuracy: 0.447000\n",
      "Loss: 2.397646, Train accuracy: 0.403111, val accuracy: 0.425000\n",
      "Loss: 2.249830, Train accuracy: 0.404333, val accuracy: 0.402000\n",
      "Loss: 2.184742, Train accuracy: 0.412667, val accuracy: 0.427000\n",
      "Loss: 2.117800, Train accuracy: 0.358778, val accuracy: 0.359000\n",
      "Loss: 2.036364, Train accuracy: 0.422111, val accuracy: 0.423000\n",
      "Loss: 1.947334, Train accuracy: 0.378222, val accuracy: 0.387000\n",
      "Loss: 2.117142, Train accuracy: 0.401222, val accuracy: 0.431000\n",
      "Loss: 2.074661, Train accuracy: 0.413444, val accuracy: 0.446000\n",
      "Loss: 1.947892, Train accuracy: 0.383111, val accuracy: 0.412000\n",
      "Loss: 2.317439, Train accuracy: 0.392111, val accuracy: 0.400000\n",
      "Loss: 2.123707, Train accuracy: 0.387667, val accuracy: 0.387000\n",
      "Loss: 2.114916, Train accuracy: 0.363778, val accuracy: 0.362000\n",
      "Loss: 2.219407, Train accuracy: 0.393667, val accuracy: 0.404000\n",
      "Loss: 2.103255, Train accuracy: 0.400222, val accuracy: 0.420000\n",
      "Loss: 2.143857, Train accuracy: 0.408889, val accuracy: 0.399000\n",
      "Loss: 2.002583, Train accuracy: 0.386444, val accuracy: 0.398000\n",
      "Loss: 2.121743, Train accuracy: 0.470667, val accuracy: 0.490000\n",
      "Loss: 2.328906, Train accuracy: 0.391444, val accuracy: 0.407000\n",
      "Loss: 2.198689, Train accuracy: 0.418222, val accuracy: 0.443000\n",
      "Loss: 2.311268, Train accuracy: 0.442000, val accuracy: 0.421000\n",
      "Loss: 2.069910, Train accuracy: 0.422333, val accuracy: 0.401000\n",
      "Loss: 2.144664, Train accuracy: 0.398556, val accuracy: 0.418000\n",
      "Loss: 2.238058, Train accuracy: 0.392778, val accuracy: 0.406000\n",
      "Loss: 2.094599, Train accuracy: 0.421556, val accuracy: 0.429000\n",
      "Loss: 2.024260, Train accuracy: 0.430222, val accuracy: 0.432000\n",
      "Loss: 2.158460, Train accuracy: 0.392778, val accuracy: 0.388000\n",
      "Loss: 2.030354, Train accuracy: 0.342333, val accuracy: 0.361000\n",
      "Loss: 2.173857, Train accuracy: 0.435444, val accuracy: 0.432000\n",
      "Loss: 2.074479, Train accuracy: 0.415778, val accuracy: 0.446000\n",
      "Loss: 2.018549, Train accuracy: 0.401667, val accuracy: 0.412000\n",
      "Loss: 1.998219, Train accuracy: 0.404444, val accuracy: 0.429000\n",
      "==========\n",
      "learning rate = 0.1 reg = 0.01 accuracy = 0.429 number of epochs = 100 batch size = 64 hidden layer size = 64 \n",
      "==========\n"
     ]
    }
   ],
   "source": [
    "# TODO find the best hyperparameters to train the network\n",
    "# Don't hesitate to add new values to the arrays above, perform experiments, use any tricks you want\n",
    "# You should expect to get to at least 40% of valudation accuracy\n",
    "# Save loss/train/history of the best classifier to the variables above\n",
    "cntr = 1\n",
    "\n",
    "\n",
    "for rate in learning_rates:\n",
    "    print(f\"\\n============Loop # {cntr}...============\")\n",
    "    for strength in reg_strengths:\n",
    "        for hidden_layer_size in hidden_layer_sizes:\n",
    "            for epochs in num_epochs:\n",
    "                for batch_size in batch_sizes:\n",
    "                    \n",
    "                    \n",
    "\n",
    "                    classifier = TwoLayerNet(n_input = train_X.shape[1],\n",
    "                                       n_output = 10,\n",
    "                                       hidden_layer_size = hidden_layer_size,\n",
    "                                       reg = strength)\n",
    "\n",
    "                    dataset = Dataset(train_X, train_y, val_X, val_y)\n",
    "\n",
    "                    trainer = Trainer(classifier, dataset, MomentumSGD(), \n",
    "                                      learning_rate=rate, \n",
    "                                      num_epochs = epochs,\n",
    "                                      batch_size=batch_size)\n",
    "\n",
    "                    loss_history, train_history, val_history = trainer.fit()\n",
    "                    \n",
    "                    print('==========\\nlearning rate =', rate, \n",
    "                          'reg =', strength, \n",
    "                          'accuracy =', val_history[-1], \n",
    "                          'number of epochs =', epochs,\n",
    "                          'batch size =', batch_size,\n",
    "                          'hidden layer size =', batch_size,\n",
    "                          \n",
    "                          '\\n==========')\n",
    "                    accuracy = val_history[-1]\n",
    "                    if best_val_accuracy is None or accuracy > best_val_accuracy:\n",
    "                        best_val_accuracy = accuracy\n",
    "                        best_classifier = classifier\n",
    "                        best_learning_rate = rate\n",
    "                        best_reg_strength = strength\n",
    "                        best_batch_size = batch_size\n",
    "                        best_num_epochs = epochs\n",
    "                        best_hidden_layer_size = hidden_layer_size\n",
    "                        \n",
    "                    # нужно сделать функцию для простановки значений, а то дубляж кода\n",
    "#                     if accuracy > best_val_accuracy:\n",
    "#                         best_val_accuracy = accuracy\n",
    "#                         best_classifier = classifier\n",
    "#                         best_learning_rate = rate\n",
    "#                         best_reg_strength = strength\n",
    "#                         best_batch_size = batch_size\n",
    "#                         best_num_epochs = epochs\n",
    "#                         best_hidden_layer_size = hidden_layer_size\n",
    "\n",
    "    cntr += 1"
   ]
  },
  {
   "cell_type": "code",
   "execution_count": 38,
   "metadata": {
    "scrolled": true
   },
   "outputs": [
    {
     "name": "stdout",
     "output_type": "stream",
     "text": [
      "best validation accuracy achieved: 0.652000\n",
      "best learning rates: 0.010000\n",
      "best reg strengths: 0.010000\n"
     ]
    }
   ],
   "source": [
    "print('best validation accuracy achieved: %f' % best_val_accuracy)\n",
    "print('best learning rates: %f' % best_learning_rate)\n",
    "print('best reg strengths: %f' % best_reg_strength)"
   ]
  },
  {
   "cell_type": "code",
   "execution_count": 39,
   "metadata": {},
   "outputs": [
    {
     "data": {
      "text/plain": [
       "[<matplotlib.lines.Line2D at 0x7f78263e62b0>]"
      ]
     },
     "execution_count": 39,
     "metadata": {},
     "output_type": "execute_result"
    },
    {
     "data": {
      "image/png": "[encoded data removed]",
      "text/plain": [
       "<Figure size 1080x504 with 2 Axes>"
      ]
     },
     "metadata": {
      "needs_background": "light"
     },
     "output_type": "display_data"
    }
   ],
   "source": [
    "plt.figure(figsize=(15, 7))\n",
    "plt.subplot(211)\n",
    "plt.title(\"Loss\")\n",
    "plt.plot(loss_history)\n",
    "plt.subplot(212)\n",
    "plt.title(\"Train/validation accuracy\")\n",
    "plt.plot(train_history)\n",
    "plt.plot(val_history)"
   ]
  },
  {
   "cell_type": "markdown",
   "metadata": {},
   "source": [
    "# Как обычно, посмотрим, как наша лучшая модель работает на тестовых данных"
   ]
  },
  {
   "cell_type": "code",
   "execution_count": 40,
   "metadata": {},
   "outputs": [
    {
     "name": "stdout",
     "output_type": "stream",
     "text": [
      "Neural net test set accuracy: 0.641000\n"
     ]
    }
   ],
   "source": [
    "test_pred = best_classifier.predict(test_X)\n",
    "test_accuracy = multiclass_accuracy(test_pred, test_y)\n",
    "print('Neural net test set accuracy: %f' % (test_accuracy, ))"
   ]
  }
 ],
 "metadata": {
  "kernelspec": {
   "display_name": "Python 3",
   "language": "python",
   "name": "python3"
  },
  "language_info": {
   "codemirror_mode": {
    "name": "ipython",
    "version": 3
   },
   "file_extension": ".py",
   "mimetype": "text/x-python",
   "name": "python",
   "nbconvert_exporter": "python",
   "pygments_lexer": "ipython3",
   "version": "3.6.9"
  }
 },
 "nbformat": 4,
 "nbformat_minor": 2
}
